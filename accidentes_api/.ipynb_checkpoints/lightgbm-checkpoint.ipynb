{
 "cells": [
  {
   "attachments": {
    "Cuneflogo.png": {
     "image/png": "[encoded data removed]"
    }
   },
   "cell_type": "markdown",
   "id": "dd78b16d",
   "metadata": {},
   "source": [
    "![Cuneflogo.png](attachment:Cuneflogo.png)"
   ]
  },
  {
   "cell_type": "markdown",
   "id": "8420513a",
   "metadata": {},
   "source": [
    "3.0.9. LIGHTGBM con PIPELINE\n",
    "---"
   ]
  },
  {
   "cell_type": "markdown",
   "id": "8342a535",
   "metadata": {},
   "source": [
    "Queremos volver a realizar el modelo LightGBM con Pipelines de cara a la segunda práctica de la asignatura. Como ya hemos comentado en notebooks anteriores, el LightGBM es el modelo que mejor se adapta tanto en tiempo de ejecución  como en predicción a el problema planteado de los accidentes de tráfico mortales. \n",
    "\n",
    "En este sentido vamos a tener que cambiar nuestro planteamiento de codificación en dos variables `ver mas adelante`. Por lo que puede que varie un poco en el resultado, (acabaremos concluyendo cuanto es su variación si varía).\n",
    "\n",
    "Nuestro objetivo con esta plantilla, es elaborar el mismo modelo, con los mismos parámetros ya establecidos en el `notebook 3.0.5.` Pero, adaptado a los datos que vamos a introducir en el formato json. Es decir, que incluya la transformación.\n",
    "\n",
    "Tal y como habiamos planificado nuestro trabajo, los modelos no podían leer datos como \"lluvia\", \"asfalto mojado\", \"choque frontal\" sino que leen numeros decimales. Como en una situación normal una persona no va a saber que para nuestro modelo la lluvia es 0.0123... Hemos introducido con los pipelines el preprocesamiento en el propio modelo. Sin embargo, hay una parte del preprocesamiento del `notebook 2.0.3.` que no hemos introducido. Se trata de las variables `c_vehs` y `c_hour`. En el `notebook 2.0.3` cambiamos todos los valores desconocidos por valores extremos con el método resample. Sin embargo, aqui vamos a imputar los valores por el método `Simple Imputer` con la mediana como valor escogido."
   ]
  },
  {
   "cell_type": "markdown",
   "id": "d44301dc",
   "metadata": {},
   "source": [
    "#### Importo Librerias"
   ]
  },
  {
   "cell_type": "code",
   "execution_count": 1,
   "id": "524f1080",
   "metadata": {},
   "outputs": [],
   "source": [
    "import warnings\n",
    "warnings.filterwarnings('ignore')"
   ]
  },
  {
   "cell_type": "code",
   "execution_count": 2,
   "id": "ce1981ab",
   "metadata": {},
   "outputs": [],
   "source": [
    "import pandas as pd\n",
    "import pyarrow.csv as pv\n",
    "import pyarrow.parquet as pq\n",
    "import seaborn as sns\n",
    "import numpy as np\n",
    "from matplotlib import pyplot as plt\n",
    "from matplotlib import pyplot\n",
    "from sklearn import preprocessing\n",
    "from sklearn.impute import SimpleImputer\n",
    "import pandas as pd\n",
    "import pyarrow.csv as pv\n",
    "import pyarrow.parquet as pq\n",
    "import seaborn as sns\n",
    "from sklearn.tree import DecisionTreeClassifier\n",
    "from sklearn import metrics\n",
    "from sklearn.preprocessing import StandardScaler\n",
    "from sklearn.compose import ColumnTransformer\n",
    "from sklearn.model_selection import train_test_split\n",
    "from sklearn.preprocessing import LabelEncoder\n",
    "from sklearn.preprocessing import StandardScaler\n",
    "from sklearn.preprocessing import RobustScaler\n",
    "import category_encoders as ce\n",
    "from sklearn.utils import resample\n",
    "from sklearn.metrics import classification_report, confusion_matrix, roc_curve, auc, \\\n",
    "                            silhouette_score, recall_score, precision_score, make_scorer, \\\n",
    "                            roc_auc_score, f1_score, precision_recall_curve\n",
    "from sklearn.metrics import accuracy_score, roc_auc_score, \\\n",
    "                            classification_report, confusion_matrix\n",
    "from sklearn.metrics import plot_confusion_matrix\n",
    "from sklearn import tree\n",
    "from sklearn.model_selection import GridSearchCV, RandomizedSearchCV\n",
    "from sklearn.metrics import fbeta_score\n",
    "from sklearn.model_selection import cross_val_score\n",
    "from sklearn.model_selection import RepeatedStratifiedKFold\n",
    "from lightgbm import LGBMClassifier\n",
    "import lightgbm as lgb\n",
    "import time\n",
    "import pickle\n",
    "import scikitplot as skplt\n",
    "from sklearn.pipeline import Pipeline"
   ]
  },
  {
   "cell_type": "markdown",
   "id": "38fc4fec",
   "metadata": {},
   "source": [
    "#### Importamos funciones: "
   ]
  },
  {
   "cell_type": "code",
   "execution_count": 3,
   "id": "af0fb159",
   "metadata": {},
   "outputs": [],
   "source": [
    "def classify_metrics(modelo, x_test, y_test, predict): \n",
    "    \n",
    "    '''Imprimimos el reporte de clasificación:  '''\n",
    "    \n",
    "    print(\"Classification Report\")\n",
    "    print(classification_report(y_test, predict))\n",
    "    \n",
    "    '''Imprimimos el Accuracy: '''\n",
    "    print(\"Accuracy:\", metrics.accuracy_score(y_test, predict))\n",
    "    \n",
    "    '''Imprimimos el F1-score'''\n",
    "    print(\"F1-Score:\", metrics.f1_score(y_test, predict))\n",
    "    \n",
    "    print(\"---\")\n",
    "    \n",
    "    '''Matriz de confusión: '''\n",
    "    titles_options = [(\"Confusion matrix, without normalization\", None),\n",
    "                  (\"Normalized confusion matrix\", 'true')]\n",
    "    for title, normalize in titles_options:\n",
    "        disp = plot_confusion_matrix(modelo, x_test, y_test,\n",
    "                                     display_labels=[\"mortal\", \"no mortal\"],\n",
    "                                     cmap=plt.cm.Blues,\n",
    "                                     normalize=normalize)\n",
    "        disp.ax_.set_title(title)\n",
    "\n",
    "        print(title)\n",
    "        print(disp.confusion_matrix)\n",
    "\n",
    "    plt.show()\n",
    "    \n",
    "    yhat = modelo.predict_proba(x_test)\n",
    "    pos_pred = yhat[:,1]\n",
    "    \n",
    "    # calculate roc curves\n",
    "    fpr, tpr, thresholds = roc_curve(y_test, pos_pred)\n",
    "    # plot the roc curve for the model\n",
    "    plt.plot([0,1], [0,1], linestyle='--', label='No Skill')\n",
    "    plt.plot(fpr, tpr, marker='.', label='Random Forest')\n",
    "    # axis labels\n",
    "    plt.xlabel('False Positive Rate')\n",
    "    plt.ylabel('True Positive Rate')\n",
    "    plt.legend()\n",
    "    # show the plot\n",
    "    plt.show()\n",
    "\n",
    "    \n",
    "    # calculate the g-mean for each threshold\n",
    "    gmeans = np.sqrt(tpr * (1-fpr))\n",
    "    \n",
    "    # locate the index of the largest g-mean\n",
    "    ix = np.argmax(gmeans)\n",
    "    print('Best Threshold=%f, G-Mean=%.3f' % (thresholds[ix], gmeans[ix]))\n",
    "    \n",
    "    '''Dibujando la curva ROC: '''\n",
    "    print(\"CURVA ROC con THRESHOLD:\")\n",
    "    # plot the roc curve for the model\n",
    "    plt.plot([0,1], [0,1], linestyle='--', label='No Skill')\n",
    "    plt.plot(fpr, tpr, marker='.', label='Modelo')\n",
    "    plt.scatter(fpr[ix], tpr[ix], s=100, marker='o', color='black', label='Best')\n",
    "    # axis labels\n",
    "    plt.xlabel('False Positive Rate')\n",
    "    plt.ylabel('True Positive Rate')\n",
    "    plt.legend()\n",
    "    # show the plot\n",
    "    plt.show()\n",
    "    \n",
    "    '''Calculando el area AUC: '''\n",
    "    print(\"AREA AUC: \")\n",
    "    # calculate roc auc\n",
    "    roc_auc = roc_auc_score(y_test, pos_pred)\n",
    "    print('ROC AUC %.3f' % roc_auc)\n",
    "    \n",
    "    '''Calculamos la curva pr: '''\n",
    "    # calculate pr-curve\n",
    "    precision, recall, thresholds = precision_recall_curve(y_test, pos_pred)\n",
    "    print(\"PRECISSION/RECALL CURVE: \")\n",
    "    # plot the roc curve for the model\n",
    "    no_skill = len(y_test[y_test==1]) / len(y_test)\n",
    "    plt.plot([0,1], [no_skill,no_skill], linestyle='--', label='No Skill')\n",
    "    plt.plot(recall, precision, marker='.', label='model')\n",
    "    # axis labels\n",
    "    plt.xlabel('Recall')\n",
    "    plt.ylabel('Precision')\n",
    "    plt.legend()\n",
    "    # show the plot\n",
    "    plt.show()\n",
    "    \n",
    "    '''Cumulative Gain Curve: '''\n",
    "    skplt.metrics.plot_cumulative_gain(y_test, yhat)\n",
    "    plt.show()\n",
    "    \n",
    "    '''Lift Curve:'''\n",
    "    skplt.metrics.plot_lift_curve(y_test, yhat)\n",
    "    plt.show()"
   ]
  },
  {
   "cell_type": "markdown",
   "id": "b7c6de77",
   "metadata": {},
   "source": [
    "#### Importo el dataset guardado en el preprocesing [`2.0.2.`](http://localhost:8888/notebooks/Desktop/CUNEF/Practica%20Machine%20Learning/project_template/notebooks/2.0.2.%20Preprocesing.%20Analisis%20de%20las%20variables.%20.ipynb)"
   ]
  },
  {
   "cell_type": "code",
   "execution_count": 4,
   "id": "28524efb",
   "metadata": {},
   "outputs": [
    {
     "data": {
      "text/html": [
       "<div>\n",
       "<style scoped>\n",
       "    .dataframe tbody tr th:only-of-type {\n",
       "        vertical-align: middle;\n",
       "    }\n",
       "\n",
       "    .dataframe tbody tr th {\n",
       "        vertical-align: top;\n",
       "    }\n",
       "\n",
       "    .dataframe thead th {\n",
       "        text-align: right;\n",
       "    }\n",
       "</style>\n",
       "<table border=\"1\" class=\"dataframe\">\n",
       "  <thead>\n",
       "    <tr style=\"text-align: right;\">\n",
       "      <th></th>\n",
       "      <th>c_year</th>\n",
       "      <th>c_mnth</th>\n",
       "      <th>c_wday</th>\n",
       "      <th>c_hour</th>\n",
       "      <th>c_sev</th>\n",
       "      <th>c_vehs</th>\n",
       "      <th>c_conf</th>\n",
       "      <th>c_rcfg</th>\n",
       "      <th>c_wthr</th>\n",
       "      <th>c_rsur</th>\n",
       "      <th>c_raln</th>\n",
       "      <th>c_traf</th>\n",
       "      <th>c_nums</th>\n",
       "    </tr>\n",
       "  </thead>\n",
       "  <tbody>\n",
       "    <tr>\n",
       "      <th>0</th>\n",
       "      <td>1999</td>\n",
       "      <td>01</td>\n",
       "      <td>1</td>\n",
       "      <td>00</td>\n",
       "      <td>2</td>\n",
       "      <td>01</td>\n",
       "      <td>01</td>\n",
       "      <td>01</td>\n",
       "      <td>1</td>\n",
       "      <td>4</td>\n",
       "      <td>1</td>\n",
       "      <td>18</td>\n",
       "      <td>1</td>\n",
       "    </tr>\n",
       "    <tr>\n",
       "      <th>1</th>\n",
       "      <td>1999</td>\n",
       "      <td>01</td>\n",
       "      <td>1</td>\n",
       "      <td>00</td>\n",
       "      <td>2</td>\n",
       "      <td>01</td>\n",
       "      <td>01</td>\n",
       "      <td>01</td>\n",
       "      <td>1</td>\n",
       "      <td>5</td>\n",
       "      <td>1</td>\n",
       "      <td>18</td>\n",
       "      <td>1</td>\n",
       "    </tr>\n",
       "    <tr>\n",
       "      <th>2</th>\n",
       "      <td>1999</td>\n",
       "      <td>01</td>\n",
       "      <td>1</td>\n",
       "      <td>00</td>\n",
       "      <td>2</td>\n",
       "      <td>01</td>\n",
       "      <td>01</td>\n",
       "      <td>01</td>\n",
       "      <td>2</td>\n",
       "      <td>1</td>\n",
       "      <td>1</td>\n",
       "      <td>18</td>\n",
       "      <td>1</td>\n",
       "    </tr>\n",
       "    <tr>\n",
       "      <th>3</th>\n",
       "      <td>1999</td>\n",
       "      <td>01</td>\n",
       "      <td>1</td>\n",
       "      <td>00</td>\n",
       "      <td>2</td>\n",
       "      <td>01</td>\n",
       "      <td>01</td>\n",
       "      <td>01</td>\n",
       "      <td>6</td>\n",
       "      <td>3</td>\n",
       "      <td>2</td>\n",
       "      <td>18</td>\n",
       "      <td>2</td>\n",
       "    </tr>\n",
       "    <tr>\n",
       "      <th>4</th>\n",
       "      <td>1999</td>\n",
       "      <td>01</td>\n",
       "      <td>1</td>\n",
       "      <td>00</td>\n",
       "      <td>2</td>\n",
       "      <td>01</td>\n",
       "      <td>01</td>\n",
       "      <td>UU</td>\n",
       "      <td>1</td>\n",
       "      <td>2</td>\n",
       "      <td>3</td>\n",
       "      <td>18</td>\n",
       "      <td>1</td>\n",
       "    </tr>\n",
       "    <tr>\n",
       "      <th>...</th>\n",
       "      <td>...</td>\n",
       "      <td>...</td>\n",
       "      <td>...</td>\n",
       "      <td>...</td>\n",
       "      <td>...</td>\n",
       "      <td>...</td>\n",
       "      <td>...</td>\n",
       "      <td>...</td>\n",
       "      <td>...</td>\n",
       "      <td>...</td>\n",
       "      <td>...</td>\n",
       "      <td>...</td>\n",
       "      <td>...</td>\n",
       "    </tr>\n",
       "    <tr>\n",
       "      <th>1850312</th>\n",
       "      <td>2014</td>\n",
       "      <td>12</td>\n",
       "      <td>7</td>\n",
       "      <td>UU</td>\n",
       "      <td>2</td>\n",
       "      <td>02</td>\n",
       "      <td>UU</td>\n",
       "      <td>02</td>\n",
       "      <td>U</td>\n",
       "      <td>U</td>\n",
       "      <td>1</td>\n",
       "      <td>03</td>\n",
       "      <td>2</td>\n",
       "    </tr>\n",
       "    <tr>\n",
       "      <th>1850313</th>\n",
       "      <td>2014</td>\n",
       "      <td>UU</td>\n",
       "      <td>U</td>\n",
       "      <td>14</td>\n",
       "      <td>2</td>\n",
       "      <td>01</td>\n",
       "      <td>02</td>\n",
       "      <td>01</td>\n",
       "      <td>1</td>\n",
       "      <td>5</td>\n",
       "      <td>4</td>\n",
       "      <td>18</td>\n",
       "      <td>1</td>\n",
       "    </tr>\n",
       "    <tr>\n",
       "      <th>1850314</th>\n",
       "      <td>2014</td>\n",
       "      <td>UU</td>\n",
       "      <td>U</td>\n",
       "      <td>22</td>\n",
       "      <td>1</td>\n",
       "      <td>01</td>\n",
       "      <td>06</td>\n",
       "      <td>01</td>\n",
       "      <td>2</td>\n",
       "      <td>4</td>\n",
       "      <td>Q</td>\n",
       "      <td>18</td>\n",
       "      <td>2</td>\n",
       "    </tr>\n",
       "    <tr>\n",
       "      <th>1850315</th>\n",
       "      <td>2014</td>\n",
       "      <td>UU</td>\n",
       "      <td>U</td>\n",
       "      <td>23</td>\n",
       "      <td>2</td>\n",
       "      <td>01</td>\n",
       "      <td>06</td>\n",
       "      <td>05</td>\n",
       "      <td>1</td>\n",
       "      <td>1</td>\n",
       "      <td>U</td>\n",
       "      <td>18</td>\n",
       "      <td>1</td>\n",
       "    </tr>\n",
       "    <tr>\n",
       "      <th>1850316</th>\n",
       "      <td>2014</td>\n",
       "      <td>UU</td>\n",
       "      <td>U</td>\n",
       "      <td>UU</td>\n",
       "      <td>2</td>\n",
       "      <td>UU</td>\n",
       "      <td>UU</td>\n",
       "      <td>01</td>\n",
       "      <td>U</td>\n",
       "      <td>U</td>\n",
       "      <td>U</td>\n",
       "      <td>UU</td>\n",
       "      <td>20</td>\n",
       "    </tr>\n",
       "  </tbody>\n",
       "</table>\n",
       "<p>1850317 rows × 13 columns</p>\n",
       "</div>"
      ],
      "text/plain": [
       "         c_year c_mnth c_wday c_hour  c_sev c_vehs c_conf c_rcfg c_wthr  \\\n",
       "0          1999     01      1     00      2     01     01     01      1   \n",
       "1          1999     01      1     00      2     01     01     01      1   \n",
       "2          1999     01      1     00      2     01     01     01      2   \n",
       "3          1999     01      1     00      2     01     01     01      6   \n",
       "4          1999     01      1     00      2     01     01     UU      1   \n",
       "...         ...    ...    ...    ...    ...    ...    ...    ...    ...   \n",
       "1850312    2014     12      7     UU      2     02     UU     02      U   \n",
       "1850313    2014     UU      U     14      2     01     02     01      1   \n",
       "1850314    2014     UU      U     22      1     01     06     01      2   \n",
       "1850315    2014     UU      U     23      2     01     06     05      1   \n",
       "1850316    2014     UU      U     UU      2     UU     UU     01      U   \n",
       "\n",
       "        c_rsur c_raln c_traf  c_nums  \n",
       "0            4      1     18       1  \n",
       "1            5      1     18       1  \n",
       "2            1      1     18       1  \n",
       "3            3      2     18       2  \n",
       "4            2      3     18       1  \n",
       "...        ...    ...    ...     ...  \n",
       "1850312      U      1     03       2  \n",
       "1850313      5      4     18       1  \n",
       "1850314      4      Q     18       2  \n",
       "1850315      1      U     18       1  \n",
       "1850316      U      U     UU      20  \n",
       "\n",
       "[1850317 rows x 13 columns]"
      ]
     },
     "execution_count": 4,
     "metadata": {},
     "output_type": "execute_result"
    }
   ],
   "source": [
    "df_acc = pd.read_parquet('../data/df_acc_1.parquet')\n",
    "df_acc.columns = df_acc.columns.map(lambda x: x[:].lower())\n",
    "df_acc"
   ]
  },
  {
   "cell_type": "markdown",
   "id": "c5f3fb9f",
   "metadata": {},
   "source": [
    "#### SPLIT (train y test)"
   ]
  },
  {
   "cell_type": "code",
   "execution_count": 5,
   "id": "9ea6061c",
   "metadata": {},
   "outputs": [],
   "source": [
    "'''Transformación variable objetivo, no la metemos en el pipeline: '''\n",
    "df_acc[\"c_sev\"] = preprocessing.LabelEncoder().fit_transform(df_acc[[\"c_sev\"]])\n",
    "\n",
    "'''Train y test: '''\n",
    "X = df_acc.drop(\"c_sev\", axis=1)\n",
    "Y = df_acc[\"c_sev\"]\n",
    "x_train, x_test, y_train, y_test = train_test_split(X, Y, stratify=Y, test_size=0.25, random_state=1422)\n",
    "'''juntamos en train y test: '''\n",
    "x_train_t = pd.concat([x_train, y_train], axis=1)\n",
    "x_test_t = pd.concat([x_test, y_test], axis=1)"
   ]
  },
  {
   "cell_type": "markdown",
   "id": "40be3518",
   "metadata": {},
   "source": [
    "#### Undersampling"
   ]
  },
  {
   "cell_type": "code",
   "execution_count": 6,
   "id": "549e6a74",
   "metadata": {},
   "outputs": [],
   "source": [
    "'''Diferenciamos mortalidad de no mortalidad: '''\n",
    "muestra_minoritaria = x_train_t[(x_train_t.c_sev == 0)]\n",
    "muestra_mayoritaria = x_train_t[(x_train_t.c_sev == 1)]\n",
    "\n",
    "'''muestra reducida con random undersample: '''\n",
    "\n",
    "muestra_mayoritaria_reducida = resample(muestra_mayoritaria, replace=True, n_samples=40320, random_state=1234)\n",
    "\n",
    "x_train = pd.concat([muestra_mayoritaria_reducida, muestra_minoritaria]).reset_index().drop('index', axis=1)\n",
    "y_train = x_train['c_sev']\n",
    "x_train = x_train.drop('c_sev',axis=1)"
   ]
  },
  {
   "cell_type": "markdown",
   "id": "a313a984",
   "metadata": {},
   "source": [
    "**En este punto ya tenemos nuestra muestra de train simplemente con el undersampling realizado, en el notebook 2.0.3. si hubieramos querido hacer pipeline en todos nuestros modelos tendríamos que haber guardado el train y test aquí.** "
   ]
  },
  {
   "cell_type": "markdown",
   "id": "d46a6c17",
   "metadata": {},
   "source": [
    "Antes de empezar con el modelo, queremos abordar un problema con el que nos hemos topado. Resulta que en pipeline, no hemos hallado ninguna manera de reeemplazar los valores \"U\", \"UU\", \"\" por NA o por valores extremos tal y como teníamos planeado en el notebook 2.0.3. En este sentido, vamos a cambiar nuestra estrategia de codificación, se verán afectadas las siguientes variables:\n",
    "\n",
    "- `c_vehs`: La variable de coches involucrados, en vez de poner un valor extremo (99) vamos a introducir el valor de la mediana. Creemos que esto no va a afectar a la mediana, puesto que el valor de la mediana sigue siendo un valor extremo en esta distribución.\n",
    "\n",
    "- `c_hour`: Cambiar el valor de la hora 24 a un valor de la mediana no cambiará la distribución de la variable y por lo tanto, no afectará al modelo. \n",
    "\n",
    "\n",
    "Procedemos a codificar los valores \"UU\", \"U\" y \"\" de las variables `c_vehs`, `c_hour`, `c_wday`y `c_mnth` como variables na para asi poderles introducir el simpleImputer como preprocesador de valores na. "
   ]
  },
  {
   "cell_type": "code",
   "execution_count": 7,
   "id": "1b99a5fd",
   "metadata": {},
   "outputs": [],
   "source": [
    "columns_with_na = x_train[[\"c_vehs\", \"c_hour\", \"c_wday\", \"c_mnth\"]].columns"
   ]
  },
  {
   "cell_type": "code",
   "execution_count": 8,
   "id": "484ca10c",
   "metadata": {},
   "outputs": [],
   "source": [
    "for i in x_train[columns_with_na]: \n",
    "    x_train[i] = x_train[i].replace(\"UU\", np.nan)\n",
    "    x_train[i] = x_train[i].replace(\"U\", np.nan)\n",
    "    x_train[i] = x_train[i].replace(\"\", np.nan)"
   ]
  },
  {
   "cell_type": "code",
   "execution_count": 9,
   "id": "bf296064",
   "metadata": {},
   "outputs": [],
   "source": [
    "for i in x_test_t[columns_with_na]: \n",
    "    x_test_t[i] = x_test_t[i].replace(\"UU\", np.nan)\n",
    "    x_test_t[i] = x_test_t[i].replace(\"U\", np.nan)\n",
    "    x_test_t[i] = x_test_t[i].replace(\"\", np.nan)"
   ]
  },
  {
   "cell_type": "code",
   "execution_count": 10,
   "id": "102cde73",
   "metadata": {},
   "outputs": [],
   "source": [
    "x_test = x_test_t.drop('c_sev',axis=1)\n",
    "y_test = x_test_t['c_sev']"
   ]
  },
  {
   "cell_type": "markdown",
   "id": "3aa4bf19",
   "metadata": {},
   "source": [
    "Queremos dividir las columnas en función de sus diferentes modos de planteamiento del procesamiento:"
   ]
  },
  {
   "cell_type": "code",
   "execution_count": 11,
   "id": "8e6a534e",
   "metadata": {},
   "outputs": [],
   "source": [
    "columns_for_robust = x_train[[\"c_nums\",\"c_vehs\"]].columns\n",
    "columns_for_just_simpleimputer = x_train[[\"c_hour\", \"c_wday\", \"c_mnth\"]].columns\n",
    "columns_for_woe = x_train[[\"c_conf\", \"c_rcfg\", \"c_wthr\", \"c_rsur\", \"c_raln\", \"c_traf\"]].columns"
   ]
  },
  {
   "cell_type": "markdown",
   "id": "7ba44025",
   "metadata": {},
   "source": [
    "#### Definimos Pipelines:"
   ]
  },
  {
   "cell_type": "code",
   "execution_count": 12,
   "id": "177ca3a5",
   "metadata": {},
   "outputs": [],
   "source": [
    "numeric_transformer = Pipeline(steps=[\n",
    "    ('imputer', SimpleImputer(strategy='median')),\n",
    "    ('robust', RobustScaler())])\n",
    "\n",
    "just_simpleimputer = Pipeline(steps=[\n",
    "    ('imputer', SimpleImputer(strategy='median'))])\n",
    "\n",
    "woe = Pipeline(steps=[\n",
    "    ('woe', ce.WOEEncoder())\n",
    "])"
   ]
  },
  {
   "cell_type": "code",
   "execution_count": 13,
   "id": "e87bd9de",
   "metadata": {},
   "outputs": [],
   "source": [
    "preprocessor = ColumnTransformer(\n",
    "    transformers=[\n",
    "        ('num', numeric_transformer, columns_for_robust),\n",
    "        ('simpleimputer',just_simpleimputer,columns_for_just_simpleimputer),\n",
    "        ('woe',woe,columns_for_woe)])"
   ]
  },
  {
   "cell_type": "code",
   "execution_count": 14,
   "id": "172de328",
   "metadata": {},
   "outputs": [],
   "source": [
    "classifier = LGBMClassifier(objective='binary',alpha=1, scale_pos_weight=0.61,\n",
    "                            boosting_type=\"gbdt\", learning_rate=0.1, max_depth=3,\n",
    "                            num_leaves=6)\n",
    "\n",
    "pipe = Pipeline(steps=[('preprocessor', preprocessor),\n",
    "                       ('classifier', classifier)])"
   ]
  },
  {
   "cell_type": "code",
   "execution_count": 15,
   "id": "539d58fa",
   "metadata": {},
   "outputs": [
    {
     "name": "stdout",
     "output_type": "stream",
     "text": [
      "[1 1 0 ... 1 1 0]\n",
      "tiempo de ejecución del fit:  0.4601292610168457\n",
      "Wall time: 1.41 s\n"
     ]
    }
   ],
   "source": [
    "%%time\n",
    "start = time.time()\n",
    "model5_with_pipeline = pipe.fit(x_train, y_train)\n",
    "end = time.time()\n",
    "y_pred = model5_with_pipeline.predict(x_test)\n",
    "print(y_pred)\n",
    "print(\"tiempo de ejecución del fit: \", end - start)"
   ]
  },
  {
   "cell_type": "markdown",
   "id": "58f72140",
   "metadata": {},
   "source": [
    "#### Metricas: "
   ]
  },
  {
   "cell_type": "code",
   "execution_count": 16,
   "id": "3fb16a91",
   "metadata": {
    "scrolled": false
   },
   "outputs": [
    {
     "name": "stdout",
     "output_type": "stream",
     "text": [
      "Classification Report\n",
      "              precision    recall  f1-score   support\n",
      "\n",
      "           0       0.04      0.72      0.08      8960\n",
      "           1       0.99      0.66      0.79    453620\n",
      "\n",
      "    accuracy                           0.66    462580\n",
      "   macro avg       0.52      0.69      0.43    462580\n",
      "weighted avg       0.97      0.66      0.78    462580\n",
      "\n",
      "Accuracy: 0.6584525919840892\n",
      "F1-Score: 0.7905166115753981\n",
      "---\n",
      "Confusion matrix, without normalization\n",
      "[[  6482   2478]\n",
      " [155515 298105]]\n",
      "Normalized confusion matrix\n",
      "[[0.7234375 0.2765625]\n",
      " [0.342831  0.657169 ]]\n"
     ]
    },
    {
     "data": {
      "image/png": "[encoded data removed]",
      "text/plain": [
       "<Figure size 432x288 with 2 Axes>"
      ]
     },
     "metadata": {
      "needs_background": "light"
     },
     "output_type": "display_data"
    },
    {
     "data": {
      "image/png": "[encoded data removed]",
      "text/plain": [
       "<Figure size 432x288 with 2 Axes>"
      ]
     },
     "metadata": {
      "needs_background": "light"
     },
     "output_type": "display_data"
    },
    {
     "data": {
      "image/png": "[encoded data removed]",
      "text/plain": [
       "<Figure size 432x288 with 1 Axes>"
      ]
     },
     "metadata": {
      "needs_background": "light"
     },
     "output_type": "display_data"
    },
    {
     "name": "stdout",
     "output_type": "stream",
     "text": [
      "Best Threshold=0.495183, G-Mean=0.691\n",
      "CURVA ROC con THRESHOLD:\n"
     ]
    },
    {
     "data": {
      "image/png": "[encoded data removed]",
      "text/plain": [
       "<Figure size 432x288 with 1 Axes>"
      ]
     },
     "metadata": {
      "needs_background": "light"
     },
     "output_type": "display_data"
    },
    {
     "name": "stdout",
     "output_type": "stream",
     "text": [
      "AREA AUC: \n",
      "ROC AUC 0.769\n",
      "PRECISSION/RECALL CURVE: \n"
     ]
    },
    {
     "data": {
      "image/png": "[encoded data removed]",
      "text/plain": [
       "<Figure size 432x288 with 1 Axes>"
      ]
     },
     "metadata": {
      "needs_background": "light"
     },
     "output_type": "display_data"
    },
    {
     "data": {
      "image/png": "[encoded data removed]",
      "text/plain": [
       "<Figure size 432x288 with 1 Axes>"
      ]
     },
     "metadata": {
      "needs_background": "light"
     },
     "output_type": "display_data"
    },
    {
     "data": {
      "image/png": "[encoded data removed]",
      "text/plain": [
       "<Figure size 432x288 with 1 Axes>"
      ]
     },
     "metadata": {
      "needs_background": "light"
     },
     "output_type": "display_data"
    }
   ],
   "source": [
    "classify_metrics(model5_with_pipeline, x_test, y_test,y_pred)"
   ]
  },
  {
   "cell_type": "markdown",
   "id": "1c00ddab",
   "metadata": {},
   "source": [
    "#### Comentarios: "
   ]
  },
  {
   "cell_type": "markdown",
   "id": "4da71465",
   "metadata": {},
   "source": [
    "Como se puede observar en las métricas, el cambio que hemos realizado en el preprocesamiento de `c_hour`y `c_vehs`no ha afectado de manera excesiva, de hecho, nos ha mejorado las predicciones en un punto porcentual. \n",
    "\n",
    "---"
   ]
  },
  {
   "cell_type": "markdown",
   "id": "572ea982",
   "metadata": {},
   "source": [
    "#### Guardamos el modelo en pickle"
   ]
  },
  {
   "cell_type": "code",
   "execution_count": 17,
   "id": "79f2d54b",
   "metadata": {},
   "outputs": [],
   "source": [
    "filename = '../models/model.pkl'\n",
    "pickle.dump(model5_with_pipeline, open(filename, 'wb'))"
   ]
  },
  {
   "cell_type": "markdown",
   "id": "049c9ca6",
   "metadata": {},
   "source": [
    "---"
   ]
  },
  {
   "cell_type": "markdown",
   "id": "4d11897c",
   "metadata": {},
   "source": [
    "#### Guardamos las columnas en pickle"
   ]
  },
  {
   "cell_type": "code",
   "execution_count": 18,
   "id": "f689f0d2",
   "metadata": {},
   "outputs": [],
   "source": [
    "x_columns = x_test.columns\n",
    "filename = '../models/model_columns.pkl'\n",
    "pickle.dump(x_columns, open(filename, 'wb'))"
   ]
  },
  {
   "cell_type": "code",
   "execution_count": 21,
   "id": "4db14500",
   "metadata": {},
   "outputs": [],
   "source": [
    "model = pickle.load(open('model.pkl', 'rb'))"
   ]
  },
  {
   "cell_type": "code",
   "execution_count": 25,
   "id": "09879c29",
   "metadata": {},
   "outputs": [
    {
     "data": {
      "text/plain": [
       "Index(['c_year', 'c_mnth', 'c_wday', 'c_hour', 'c_vehs', 'c_conf', 'c_rcfg',\n",
       "       'c_wthr', 'c_rsur', 'c_raln', 'c_traf', 'c_nums'],\n",
       "      dtype='object')"
      ]
     },
     "execution_count": 25,
     "metadata": {},
     "output_type": "execute_result"
    }
   ],
   "source": [
    "model_columns = pickle.load(open(\"model_columns.pkl\", 'rb')) \n",
    "model_columns"
   ]
  },
  {
   "cell_type": "code",
   "execution_count": 23,
   "id": "e74db6e9",
   "metadata": {},
   "outputs": [
    {
     "data": {
      "text/plain": [
       "array([1, 1, 0, ..., 1, 1, 0], dtype=int64)"
      ]
     },
     "execution_count": 23,
     "metadata": {},
     "output_type": "execute_result"
    }
   ],
   "source": [
    "y_pred = model.predict(x_test)\n",
    "y_pred"
   ]
  },
  {
   "cell_type": "code",
   "execution_count": 24,
   "id": "5ca22225",
   "metadata": {},
   "outputs": [
    {
     "data": {
      "text/html": [
       "<div>\n",
       "<style scoped>\n",
       "    .dataframe tbody tr th:only-of-type {\n",
       "        vertical-align: middle;\n",
       "    }\n",
       "\n",
       "    .dataframe tbody tr th {\n",
       "        vertical-align: top;\n",
       "    }\n",
       "\n",
       "    .dataframe thead th {\n",
       "        text-align: right;\n",
       "    }\n",
       "</style>\n",
       "<table border=\"1\" class=\"dataframe\">\n",
       "  <thead>\n",
       "    <tr style=\"text-align: right;\">\n",
       "      <th></th>\n",
       "      <th>c_year</th>\n",
       "      <th>c_mnth</th>\n",
       "      <th>c_wday</th>\n",
       "      <th>c_hour</th>\n",
       "      <th>c_vehs</th>\n",
       "      <th>c_conf</th>\n",
       "      <th>c_rcfg</th>\n",
       "      <th>c_wthr</th>\n",
       "      <th>c_rsur</th>\n",
       "      <th>c_raln</th>\n",
       "      <th>c_traf</th>\n",
       "      <th>c_nums</th>\n",
       "    </tr>\n",
       "  </thead>\n",
       "  <tbody>\n",
       "    <tr>\n",
       "      <th>1222752</th>\n",
       "      <td>2008</td>\n",
       "      <td>12</td>\n",
       "      <td>2</td>\n",
       "      <td>14</td>\n",
       "      <td>04</td>\n",
       "      <td>UU</td>\n",
       "      <td>02</td>\n",
       "      <td>1</td>\n",
       "      <td>1</td>\n",
       "      <td>1</td>\n",
       "      <td>01</td>\n",
       "      <td>5</td>\n",
       "    </tr>\n",
       "    <tr>\n",
       "      <th>744205</th>\n",
       "      <td>2004</td>\n",
       "      <td>11</td>\n",
       "      <td>7</td>\n",
       "      <td>18</td>\n",
       "      <td>01</td>\n",
       "      <td>QQ</td>\n",
       "      <td>01</td>\n",
       "      <td>4</td>\n",
       "      <td>4</td>\n",
       "      <td>2</td>\n",
       "      <td>18</td>\n",
       "      <td>1</td>\n",
       "    </tr>\n",
       "    <tr>\n",
       "      <th>1184753</th>\n",
       "      <td>2008</td>\n",
       "      <td>08</td>\n",
       "      <td>3</td>\n",
       "      <td>07</td>\n",
       "      <td>01</td>\n",
       "      <td>06</td>\n",
       "      <td>01</td>\n",
       "      <td>1</td>\n",
       "      <td>1</td>\n",
       "      <td>3</td>\n",
       "      <td>18</td>\n",
       "      <td>1</td>\n",
       "    </tr>\n",
       "    <tr>\n",
       "      <th>1849698</th>\n",
       "      <td>2014</td>\n",
       "      <td>12</td>\n",
       "      <td>7</td>\n",
       "      <td>10</td>\n",
       "      <td>02</td>\n",
       "      <td>36</td>\n",
       "      <td>02</td>\n",
       "      <td>1</td>\n",
       "      <td>1</td>\n",
       "      <td>1</td>\n",
       "      <td>18</td>\n",
       "      <td>4</td>\n",
       "    </tr>\n",
       "    <tr>\n",
       "      <th>689837</th>\n",
       "      <td>2004</td>\n",
       "      <td>06</td>\n",
       "      <td>6</td>\n",
       "      <td>01</td>\n",
       "      <td>01</td>\n",
       "      <td>04</td>\n",
       "      <td>01</td>\n",
       "      <td>6</td>\n",
       "      <td>1</td>\n",
       "      <td>1</td>\n",
       "      <td>18</td>\n",
       "      <td>1</td>\n",
       "    </tr>\n",
       "    <tr>\n",
       "      <th>...</th>\n",
       "      <td>...</td>\n",
       "      <td>...</td>\n",
       "      <td>...</td>\n",
       "      <td>...</td>\n",
       "      <td>...</td>\n",
       "      <td>...</td>\n",
       "      <td>...</td>\n",
       "      <td>...</td>\n",
       "      <td>...</td>\n",
       "      <td>...</td>\n",
       "      <td>...</td>\n",
       "      <td>...</td>\n",
       "    </tr>\n",
       "    <tr>\n",
       "      <th>82203</th>\n",
       "      <td>1999</td>\n",
       "      <td>09</td>\n",
       "      <td>2</td>\n",
       "      <td>NaN</td>\n",
       "      <td>02</td>\n",
       "      <td>33</td>\n",
       "      <td>01</td>\n",
       "      <td>1</td>\n",
       "      <td>1</td>\n",
       "      <td>1</td>\n",
       "      <td>18</td>\n",
       "      <td>4</td>\n",
       "    </tr>\n",
       "    <tr>\n",
       "      <th>20752</th>\n",
       "      <td>1999</td>\n",
       "      <td>03</td>\n",
       "      <td>1</td>\n",
       "      <td>09</td>\n",
       "      <td>02</td>\n",
       "      <td>21</td>\n",
       "      <td>UU</td>\n",
       "      <td>1</td>\n",
       "      <td>2</td>\n",
       "      <td>1</td>\n",
       "      <td>18</td>\n",
       "      <td>2</td>\n",
       "    </tr>\n",
       "    <tr>\n",
       "      <th>1341651</th>\n",
       "      <td>2010</td>\n",
       "      <td>01</td>\n",
       "      <td>5</td>\n",
       "      <td>14</td>\n",
       "      <td>03</td>\n",
       "      <td>21</td>\n",
       "      <td>01</td>\n",
       "      <td>1</td>\n",
       "      <td>1</td>\n",
       "      <td>1</td>\n",
       "      <td>18</td>\n",
       "      <td>6</td>\n",
       "    </tr>\n",
       "    <tr>\n",
       "      <th>132094</th>\n",
       "      <td>2000</td>\n",
       "      <td>01</td>\n",
       "      <td>6</td>\n",
       "      <td>02</td>\n",
       "      <td>02</td>\n",
       "      <td>36</td>\n",
       "      <td>02</td>\n",
       "      <td>1</td>\n",
       "      <td>1</td>\n",
       "      <td>1</td>\n",
       "      <td>01</td>\n",
       "      <td>9</td>\n",
       "    </tr>\n",
       "    <tr>\n",
       "      <th>1743895</th>\n",
       "      <td>2013</td>\n",
       "      <td>12</td>\n",
       "      <td>2</td>\n",
       "      <td>11</td>\n",
       "      <td>01</td>\n",
       "      <td>02</td>\n",
       "      <td>01</td>\n",
       "      <td>1</td>\n",
       "      <td>1</td>\n",
       "      <td>1</td>\n",
       "      <td>04</td>\n",
       "      <td>2</td>\n",
       "    </tr>\n",
       "  </tbody>\n",
       "</table>\n",
       "<p>462580 rows × 12 columns</p>\n",
       "</div>"
      ],
      "text/plain": [
       "         c_year c_mnth c_wday c_hour c_vehs c_conf c_rcfg c_wthr c_rsur  \\\n",
       "1222752    2008     12      2     14     04     UU     02      1      1   \n",
       "744205     2004     11      7     18     01     QQ     01      4      4   \n",
       "1184753    2008     08      3     07     01     06     01      1      1   \n",
       "1849698    2014     12      7     10     02     36     02      1      1   \n",
       "689837     2004     06      6     01     01     04     01      6      1   \n",
       "...         ...    ...    ...    ...    ...    ...    ...    ...    ...   \n",
       "82203      1999     09      2    NaN     02     33     01      1      1   \n",
       "20752      1999     03      1     09     02     21     UU      1      2   \n",
       "1341651    2010     01      5     14     03     21     01      1      1   \n",
       "132094     2000     01      6     02     02     36     02      1      1   \n",
       "1743895    2013     12      2     11     01     02     01      1      1   \n",
       "\n",
       "        c_raln c_traf  c_nums  \n",
       "1222752      1     01       5  \n",
       "744205       2     18       1  \n",
       "1184753      3     18       1  \n",
       "1849698      1     18       4  \n",
       "689837       1     18       1  \n",
       "...        ...    ...     ...  \n",
       "82203        1     18       4  \n",
       "20752        1     18       2  \n",
       "1341651      1     18       6  \n",
       "132094       1     01       9  \n",
       "1743895      1     04       2  \n",
       "\n",
       "[462580 rows x 12 columns]"
      ]
     },
     "execution_count": 24,
     "metadata": {},
     "output_type": "execute_result"
    }
   ],
   "source": [
    "x_test"
   ]
  },
  {
   "cell_type": "code",
   "execution_count": 37,
   "id": "2ac09ca6",
   "metadata": {},
   "outputs": [
    {
     "name": "stdout",
     "output_type": "stream",
     "text": [
      "[{'c_year': 2008, 'c_mnth': '12', 'c_wday': '02', 'c_hour': 14, 'c_vehs': '04', 'c_conf': 'QQ', 'c_rcfg': '02', 'c_wthr': '1', 'c_rsur': '1', 'c_raln': '1', 'c_traf': '01', 'c_nums': 5}]\n",
      "   c_year  c_hour  c_nums  c_mnth_12  c_wday_02  c_vehs_04  c_conf_QQ  \\\n",
      "0    2008      14       5          1          1          1          1   \n",
      "\n",
      "   c_rcfg_02  c_wthr_1  c_rsur_1  c_raln_1  c_traf_01  \n",
      "0          1         1         1         1          1  \n"
     ]
    }
   ],
   "source": [
    "json_ = [{\n",
    "        \"c_year\": 2008,\n",
    "        \"c_mnth\": \"12\",\n",
    "        \"c_wday\": \"02\",\n",
    "        \"c_hour\": 14,\n",
    "        \"c_vehs\": \"04\",\n",
    "        \"c_conf\": \"QQ\",\n",
    "        \"c_rcfg\": \"02\",\n",
    "        \"c_wthr\": \"1\",\n",
    "        \"c_rsur\": \"1\",\n",
    "        \"c_raln\": \"1\",\n",
    "        \"c_traf\": \"01\",\n",
    "        \"c_nums\": 5\n",
    "    }]\n",
    "\n",
    "print(json_)\n",
    "query = pd.get_dummies(pd.DataFrame(json_))\n",
    "#query = query.reindex(columns=model_columns, fill_value=0)\n",
    "print(query)"
   ]
  },
  {
   "cell_type": "code",
   "execution_count": 38,
   "id": "ad5453bc",
   "metadata": {},
   "outputs": [
    {
     "data": {
      "text/html": [
       "<div>\n",
       "<style scoped>\n",
       "    .dataframe tbody tr th:only-of-type {\n",
       "        vertical-align: middle;\n",
       "    }\n",
       "\n",
       "    .dataframe tbody tr th {\n",
       "        vertical-align: top;\n",
       "    }\n",
       "\n",
       "    .dataframe thead th {\n",
       "        text-align: right;\n",
       "    }\n",
       "</style>\n",
       "<table border=\"1\" class=\"dataframe\">\n",
       "  <thead>\n",
       "    <tr style=\"text-align: right;\">\n",
       "      <th></th>\n",
       "      <th>c_year</th>\n",
       "      <th>c_hour</th>\n",
       "      <th>c_nums</th>\n",
       "      <th>c_mnth_12</th>\n",
       "      <th>c_wday_02</th>\n",
       "      <th>c_vehs_04</th>\n",
       "      <th>c_conf_QQ</th>\n",
       "      <th>c_rcfg_02</th>\n",
       "      <th>c_wthr_1</th>\n",
       "      <th>c_rsur_1</th>\n",
       "      <th>c_raln_1</th>\n",
       "      <th>c_traf_01</th>\n",
       "    </tr>\n",
       "  </thead>\n",
       "  <tbody>\n",
       "    <tr>\n",
       "      <th>0</th>\n",
       "      <td>2008</td>\n",
       "      <td>14</td>\n",
       "      <td>5</td>\n",
       "      <td>1</td>\n",
       "      <td>1</td>\n",
       "      <td>1</td>\n",
       "      <td>1</td>\n",
       "      <td>1</td>\n",
       "      <td>1</td>\n",
       "      <td>1</td>\n",
       "      <td>1</td>\n",
       "      <td>1</td>\n",
       "    </tr>\n",
       "  </tbody>\n",
       "</table>\n",
       "</div>"
      ],
      "text/plain": [
       "   c_year  c_hour  c_nums  c_mnth_12  c_wday_02  c_vehs_04  c_conf_QQ  \\\n",
       "0    2008      14       5          1          1          1          1   \n",
       "\n",
       "   c_rcfg_02  c_wthr_1  c_rsur_1  c_raln_1  c_traf_01  \n",
       "0          1         1         1         1          1  "
      ]
     },
     "execution_count": 38,
     "metadata": {},
     "output_type": "execute_result"
    }
   ],
   "source": [
    "query"
   ]
  },
  {
   "cell_type": "code",
   "execution_count": null,
   "id": "8fbc1656",
   "metadata": {},
   "outputs": [],
   "source": []
  },
  {
   "cell_type": "code",
   "execution_count": null,
   "id": "8215601f",
   "metadata": {},
   "outputs": [],
   "source": []
  },
  {
   "cell_type": "markdown",
   "id": "ac1864f9",
   "metadata": {},
   "source": [
    "---"
   ]
  }
 ],
 "metadata": {
  "kernelspec": {
   "display_name": "Python [conda env:practica_final]",
   "language": "python",
   "name": "conda-env-practica_final-py"
  },
  "language_info": {
   "codemirror_mode": {
    "name": "ipython",
    "version": 3
   },
   "file_extension": ".py",
   "mimetype": "text/x-python",
   "name": "python",
   "nbconvert_exporter": "python",
   "pygments_lexer": "ipython3",
   "version": "3.9.7"
  }
 },
 "nbformat": 4,
 "nbformat_minor": 5
}
